{
  "nbformat": 4,
  "nbformat_minor": 0,
  "metadata": {
    "colab": {
      "name": "final-project-350.ipynb",
      "provenance": [],
      "collapsed_sections": []
    },
    "kernelspec": {
      "name": "python3",
      "display_name": "Python 3"
    },
    "language_info": {
      "name": "python"
    }
  },
  "cells": [
    {
      "cell_type": "code",
      "execution_count": 1,
      "metadata": {
        "id": "ks56QROACI_K"
      },
      "outputs": [],
      "source": [
        "import numpy as np\n",
        "import matplotlib.pyplot as plt\n",
        "from scipy.integrate import odeint\n",
        "import sympy as smp\n",
        "from matplotlib import animation\n",
        "from matplotlib.animation import PillowWriter"
      ]
    },
    {
      "cell_type": "code",
      "source": [
        "m1, m2, k, l0, R, g, t = smp.symbols('m_1 m_2 k l_0 R g t')\n",
        "theta, l = smp.symbols('theta l', cls = smp.Function)\n",
        "\n",
        "theta = theta(t)\n",
        "l = l(t)\n",
        "\n",
        "dtheta = smp.diff(theta ,t)\n",
        "ddtheta = smp.diff(dtheta, t)\n",
        "\n",
        "dl = smp.diff(l, t)\n",
        "ddl = smp.diff(dl, t)\n",
        "\n",
        "x1 = l*smp.sin(theta)\n",
        "y1 = l*smp.cos(theta)\n",
        "\n",
        "x2 = R*smp.sin(theta)\n",
        "y2 = R*smp.cos(theta)\n",
        "\n",
        "# t, g, m, h, w, A, l0, k = smp.symbols('t g m h w A l_0 k')\n",
        "# x, ys = smp.symbols('x y_s', cls=smp.Function)\n",
        "# ys = smp.sin(w*t)\n",
        "\n",
        "# x = x(t)\n",
        "\n",
        "# d_x = smp.diff(x, t)\n",
        "# dd_x = smp.diff(d_x, t)\n",
        "\n",
        "# x1 = x\n",
        "# y1 = A*x**2"
      ],
      "metadata": {
        "id": "RlomugoFCjFT"
      },
      "execution_count": 2,
      "outputs": []
    },
    {
      "cell_type": "code",
      "source": [
        "# T = smp.Rational(1,2)*m1*dl**2 + smp.Rational(1,2)*m2*(dl**2 + l**2*dtheta**2)\n",
        "# U = -m2*g*R*smp.cos(theta)-m1*g*l*smp.cos(theta)+smp.Rational(1,2)*k*(R-l-l0)**2\n",
        "\n",
        "T = smp.Rational(1,2)*m1*(smp.diff(x1,t)**2 + smp.diff(y1,t)**2) + smp.Rational(1,2)*m2*(smp.diff(x2,t)**2 + smp.diff(y2,t)**2)\n",
        "U = -m1*g*y1 - m2*g*y2 + smp.Rational(1,2)*k*(R-l-l0)**2\n",
        "U\n",
        "T\n",
        "\n",
        "# T = smp.Rational(1,2)*m*(smp.diff(x1, t)**2 + smp.diff(y1, t)**2)\n",
        "# U = m*g*A*x**2 + smp.Rational(1,2)*k*(smp.sqrt((x**2+(h+ys-A*x**2)**2))-l0)**2"
      ],
      "metadata": {
        "id": "hcQJlcsIEHUy",
        "colab": {
          "base_uri": "https://localhost:8080/",
          "height": 114
        },
        "outputId": "70fffa8a-a1c8-4e92-aecc-7d28c58d11c3"
      },
      "execution_count": 3,
      "outputs": [
        {
          "output_type": "execute_result",
          "data": {
            "text/plain": [
              "m_1*((-l(t)*sin(theta(t))*Derivative(theta(t), t) + cos(theta(t))*Derivative(l(t), t))**2 + (l(t)*cos(theta(t))*Derivative(theta(t), t) + sin(theta(t))*Derivative(l(t), t))**2)/2 + m_2*(R**2*sin(theta(t))**2*Derivative(theta(t), t)**2 + R**2*cos(theta(t))**2*Derivative(theta(t), t)**2)/2"
            ],
            "text/latex": "$\\displaystyle \\frac{m_{1} \\left(\\left(- l{\\left(t \\right)} \\sin{\\left(\\theta{\\left(t \\right)} \\right)} \\frac{d}{d t} \\theta{\\left(t \\right)} + \\cos{\\left(\\theta{\\left(t \\right)} \\right)} \\frac{d}{d t} l{\\left(t \\right)}\\right)^{2} + \\left(l{\\left(t \\right)} \\cos{\\left(\\theta{\\left(t \\right)} \\right)} \\frac{d}{d t} \\theta{\\left(t \\right)} + \\sin{\\left(\\theta{\\left(t \\right)} \\right)} \\frac{d}{d t} l{\\left(t \\right)}\\right)^{2}\\right)}{2} + \\frac{m_{2} \\left(R^{2} \\sin^{2}{\\left(\\theta{\\left(t \\right)} \\right)} \\left(\\frac{d}{d t} \\theta{\\left(t \\right)}\\right)^{2} + R^{2} \\cos^{2}{\\left(\\theta{\\left(t \\right)} \\right)} \\left(\\frac{d}{d t} \\theta{\\left(t \\right)}\\right)^{2}\\right)}{2}$"
          },
          "metadata": {},
          "execution_count": 3
        }
      ]
    },
    {
      "cell_type": "code",
      "source": [
        "L = T-U"
      ],
      "metadata": {
        "id": "u3uWla4nERc2"
      },
      "execution_count": 4,
      "outputs": []
    },
    {
      "cell_type": "code",
      "source": [
        "L"
      ],
      "metadata": {
        "colab": {
          "base_uri": "https://localhost:8080/",
          "height": 153
        },
        "id": "21gqOW0tTF34",
        "outputId": "4385ea94-efac-4ed1-e2ef-e5ef3ead1942"
      },
      "execution_count": 5,
      "outputs": [
        {
          "output_type": "execute_result",
          "data": {
            "text/plain": [
              "R*g*m_2*cos(theta(t)) + g*m_1*l(t)*cos(theta(t)) - k*(R - l_0 - l(t))**2/2 + m_1*((-l(t)*sin(theta(t))*Derivative(theta(t), t) + cos(theta(t))*Derivative(l(t), t))**2 + (l(t)*cos(theta(t))*Derivative(theta(t), t) + sin(theta(t))*Derivative(l(t), t))**2)/2 + m_2*(R**2*sin(theta(t))**2*Derivative(theta(t), t)**2 + R**2*cos(theta(t))**2*Derivative(theta(t), t)**2)/2"
            ],
            "text/latex": "$\\displaystyle R g m_{2} \\cos{\\left(\\theta{\\left(t \\right)} \\right)} + g m_{1} l{\\left(t \\right)} \\cos{\\left(\\theta{\\left(t \\right)} \\right)} - \\frac{k \\left(R - l_{0} - l{\\left(t \\right)}\\right)^{2}}{2} + \\frac{m_{1} \\left(\\left(- l{\\left(t \\right)} \\sin{\\left(\\theta{\\left(t \\right)} \\right)} \\frac{d}{d t} \\theta{\\left(t \\right)} + \\cos{\\left(\\theta{\\left(t \\right)} \\right)} \\frac{d}{d t} l{\\left(t \\right)}\\right)^{2} + \\left(l{\\left(t \\right)} \\cos{\\left(\\theta{\\left(t \\right)} \\right)} \\frac{d}{d t} \\theta{\\left(t \\right)} + \\sin{\\left(\\theta{\\left(t \\right)} \\right)} \\frac{d}{d t} l{\\left(t \\right)}\\right)^{2}\\right)}{2} + \\frac{m_{2} \\left(R^{2} \\sin^{2}{\\left(\\theta{\\left(t \\right)} \\right)} \\left(\\frac{d}{d t} \\theta{\\left(t \\right)}\\right)^{2} + R^{2} \\cos^{2}{\\left(\\theta{\\left(t \\right)} \\right)} \\left(\\frac{d}{d t} \\theta{\\left(t \\right)}\\right)^{2}\\right)}{2}$"
          },
          "metadata": {},
          "execution_count": 5
        }
      ]
    },
    {
      "cell_type": "code",
      "source": [
        "EL1 = smp.diff(L,l) - smp.diff(smp.diff(L,dl),t).simplify()\n",
        "EL2 = smp.diff(L,theta) - smp.diff(smp.diff(L, dtheta), t).simplify()"
      ],
      "metadata": {
        "id": "C7DMz2aOTGjW"
      },
      "execution_count": 6,
      "outputs": []
    },
    {
      "cell_type": "code",
      "source": [
        "EL1"
      ],
      "metadata": {
        "colab": {
          "base_uri": "https://localhost:8080/",
          "height": 150
        },
        "id": "r-3_-S1BUWJJ",
        "outputId": "894f9b16-68d6-4918-da8f-3c807ea74496"
      },
      "execution_count": 7,
      "outputs": [
        {
          "output_type": "execute_result",
          "data": {
            "text/plain": [
              "g*m_1*cos(theta(t)) - k*(-2*R + 2*l_0 + 2*l(t))/2 + m_1*(-2*(-l(t)*sin(theta(t))*Derivative(theta(t), t) + cos(theta(t))*Derivative(l(t), t))*sin(theta(t))*Derivative(theta(t), t) + 2*(l(t)*cos(theta(t))*Derivative(theta(t), t) + sin(theta(t))*Derivative(l(t), t))*cos(theta(t))*Derivative(theta(t), t))/2 - m_1*Derivative(l(t), (t, 2))"
            ],
            "text/latex": "$\\displaystyle g m_{1} \\cos{\\left(\\theta{\\left(t \\right)} \\right)} - \\frac{k \\left(- 2 R + 2 l_{0} + 2 l{\\left(t \\right)}\\right)}{2} + \\frac{m_{1} \\left(- 2 \\left(- l{\\left(t \\right)} \\sin{\\left(\\theta{\\left(t \\right)} \\right)} \\frac{d}{d t} \\theta{\\left(t \\right)} + \\cos{\\left(\\theta{\\left(t \\right)} \\right)} \\frac{d}{d t} l{\\left(t \\right)}\\right) \\sin{\\left(\\theta{\\left(t \\right)} \\right)} \\frac{d}{d t} \\theta{\\left(t \\right)} + 2 \\left(l{\\left(t \\right)} \\cos{\\left(\\theta{\\left(t \\right)} \\right)} \\frac{d}{d t} \\theta{\\left(t \\right)} + \\sin{\\left(\\theta{\\left(t \\right)} \\right)} \\frac{d}{d t} l{\\left(t \\right)}\\right) \\cos{\\left(\\theta{\\left(t \\right)} \\right)} \\frac{d}{d t} \\theta{\\left(t \\right)}\\right)}{2} - m_{1} \\frac{d^{2}}{d t^{2}} l{\\left(t \\right)}$"
          },
          "metadata": {},
          "execution_count": 7
        }
      ]
    },
    {
      "cell_type": "code",
      "source": [
        "sol = smp.solve([EL1, EL2], (ddl, ddtheta), simplify = False, rational = False)\n",
        "# now we have ddtheta = ... and ddl = ... explicitly\n",
        "\n",
        "sol[ddtheta]\n"
      ],
      "metadata": {
        "id": "wmswT-YyUlLP",
        "colab": {
          "base_uri": "https://localhost:8080/",
          "height": 61
        },
        "outputId": "6d1fec78-bcc5-4524-a63a-8b1ba812beb2"
      },
      "execution_count": 8,
      "outputs": [
        {
          "output_type": "execute_result",
          "data": {
            "text/plain": [
              "-R*g*m_2*sin(theta(t))/(R**2*m_2 + m_1*l(t)**2) - g*m_1*l(t)*sin(theta(t))/(R**2*m_2 + m_1*l(t)**2) - 2*m_1*l(t)*Derivative(l(t), t)*Derivative(theta(t), t)/(R**2*m_2 + m_1*l(t)**2)"
            ],
            "text/latex": "$\\displaystyle - \\frac{R g m_{2} \\sin{\\left(\\theta{\\left(t \\right)} \\right)}}{R^{2} m_{2} + m_{1} l^{2}{\\left(t \\right)}} - \\frac{g m_{1} l{\\left(t \\right)} \\sin{\\left(\\theta{\\left(t \\right)} \\right)}}{R^{2} m_{2} + m_{1} l^{2}{\\left(t \\right)}} - \\frac{2 m_{1} l{\\left(t \\right)} \\frac{d}{d t} l{\\left(t \\right)} \\frac{d}{d t} \\theta{\\left(t \\right)}}{R^{2} m_{2} + m_{1} l^{2}{\\left(t \\right)}}$"
          },
          "metadata": {},
          "execution_count": 8
        }
      ]
    },
    {
      "cell_type": "code",
      "source": [
        "dz1dt_f = smp.lambdify((m1, k, l0, R, g, t, l, theta, dtheta), sol[ddl]) # actually no dl dependence no m2 dependence...\n",
        "dz2dt_f = smp.lambdify((m1, m2, R, g, t, l, theta, dl, dtheta), sol[ddtheta]) # actually no k dependence or l0...\n",
        "dldt_f = smp.lambdify(dl, dl)\n",
        "dthetadt_f = smp.lambdify(dtheta, dtheta)"
      ],
      "metadata": {
        "id": "G5rtr4mTVQq0"
      },
      "execution_count": 9,
      "outputs": []
    },
    {
      "cell_type": "code",
      "source": [
        "def dSdt(S, t, m1, m2, k, l0, R, g):\n",
        "  l, z1, theta, z2 = S\n",
        "  return [\n",
        "          dldt_f(z1),\n",
        "          dz1dt_f(m1, k, l0, R, g, t, l, theta, z2),\n",
        "          dthetadt_f(z2),\n",
        "          dz2dt_f(m1, m2, R, g, t, l, theta, z1, z2)\n",
        "  ]\n"
      ],
      "metadata": {
        "id": "AYBca0C9Yl-p"
      },
      "execution_count": 10,
      "outputs": []
    },
    {
      "cell_type": "code",
      "source": [
        "t = np.linspace(0, 40, 1001)\n",
        "m1 = 60\n",
        "m2 = 3\n",
        "k = 800\n",
        "l0 = 1.5\n",
        "R = 3\n",
        "g = 9.8\n",
        "\n",
        "ans = odeint(dSdt, y0=[2, 0, 0.1, 0], t=t, args=(m1, m2, k, l0, R, g))"
      ],
      "metadata": {
        "id": "7M8S4l55a6nK"
      },
      "execution_count": 16,
      "outputs": []
    },
    {
      "cell_type": "code",
      "source": [
        "l = ans.T[0]\n",
        "theta = ans.T[2]\n",
        "# print(l)\n",
        "# print(theta)"
      ],
      "metadata": {
        "id": "5nUJFb5wcidR"
      },
      "execution_count": 17,
      "outputs": []
    },
    {
      "cell_type": "code",
      "source": [
        "plt.plot(t,l)\n",
        "plt.plot(t,theta)\n",
        "plt.title('k = 750, ϕ_0 = 0.3')\n",
        "plt.xlabel('Time (s)')\n",
        "plt.ylabel('ϕ (radians) and l (meters)')\n",
        "plt.legend(['l', 'ϕ'])"
      ],
      "metadata": {
        "colab": {
          "base_uri": "https://localhost:8080/",
          "height": 312
        },
        "id": "cqgqojO5fP-L",
        "outputId": "2559e1c4-243e-44bf-ecb5-d9fd5066bd76"
      },
      "execution_count": 18,
      "outputs": [
        {
          "output_type": "execute_result",
          "data": {
            "text/plain": [
              "<matplotlib.legend.Legend at 0x7f60fcf593d0>"
            ]
          },
          "metadata": {},
          "execution_count": 18
        },
        {
          "output_type": "display_data",
          "data": {
            "text/plain": [
              "<Figure size 432x288 with 1 Axes>"
            ],
            "image/png": "[encoded data removed]"
          },
          "metadata": {
            "needs_background": "light"
          }
        }
      ]
    },
    {
      "cell_type": "code",
      "source": [
        "def get_position(t, R, l, theta):\n",
        "  return (l*np.sin(theta), l*np.cos(theta), R*np.sin(theta), R*np.cos(theta))\n",
        "\n",
        "x1, y1, x2, y2 = get_position(t, R, l, theta)"
      ],
      "metadata": {
        "id": "dOK4XXzufU65"
      },
      "execution_count": 19,
      "outputs": []
    },
    {
      "cell_type": "code",
      "source": [
        "def animate(i):\n",
        "  ln1.set_data([0, x1[i], x2[i]], [0, y1[i], y2[i]])\n",
        "  ln2.set_data([x1[i], x2[i]], [y1[i], y2[i]])\n",
        "\n",
        "\n",
        "fig, ax = plt.subplots(1,1, figsize=(8,8))\n",
        "ax.set_facecolor('k')\n",
        "ax.get_xaxis().set_ticks([])\n",
        "ax.get_yaxis().set_ticks([])\n",
        "ln1, = plt.plot([], [], 'ro--', lw=3, markersize=8)\n",
        "ln2, = plt.plot([], [], 'ro--', lw=3, markersize=8)\n",
        "ax.set_ylim(-6,6)\n",
        "ax.set_xlim(-6,6)\n",
        "ani = animation.FuncAnimation(fig, animate, frames=1000, interval=50)\n",
        "ani.save('1_small_oscillations.gif', writer='pillow', fps=25)"
      ],
      "metadata": {
        "colab": {
          "base_uri": "https://localhost:8080/",
          "height": 468
        },
        "id": "B7KW6j3ausn0",
        "outputId": "cf471005-94d6-403a-dbee-fca10fcd46b1"
      },
      "execution_count": 20,
      "outputs": [
        {
          "output_type": "display_data",
          "data": {
            "text/plain": [
              "<Figure size 576x576 with 1 Axes>"
            ],
            "image/png": "[encoded data removed]"
          },
          "metadata": {}
        }
      ]
    },
    {
      "cell_type": "code",
      "source": [
        ""
      ],
      "metadata": {
        "id": "FbxowM6S1o70"
      },
      "execution_count": 15,
      "outputs": []
    }
  ]
}